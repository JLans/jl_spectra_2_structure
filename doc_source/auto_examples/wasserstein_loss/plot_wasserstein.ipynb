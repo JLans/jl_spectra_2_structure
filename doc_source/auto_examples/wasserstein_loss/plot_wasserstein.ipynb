{
  "cells": [
    {
      "cell_type": "code",
      "execution_count": null,
      "metadata": {
        "collapsed": false
      },
      "outputs": [],
      "source": [
        "%matplotlib inline"
      ]
    },
    {
      "cell_type": "markdown",
      "metadata": {},
      "source": [
        "\n# Wasserstein loss and its derivative used in jl_spectra_2_structure\n\n\nThis example shows how to deconvolute spectra using the model\n\nThe parity plot for the mixtures where concentrations are known is shown in\nfigure 1 and the plot of concentration with time for the experimental spectra\nfrom reacting systems are shown in figure 2 and 3 for different starting\nconcentrations\n"
      ]
    },
    {
      "cell_type": "code",
      "execution_count": null,
      "metadata": {
        "collapsed": false
      },
      "outputs": [],
      "source": [
        "import os\nimport numpy as np\nfrom scipy.special import kl_div\nimport matplotlib.pyplot as plt\nfrom matplotlib import gridspec\nfrom jl_spectra_2_structure.plotting_tools import set_figure_settings"
      ]
    },
    {
      "cell_type": "markdown",
      "metadata": {},
      "source": [
        "set figure settings\n-------------------\n\nFirst we'll set up vectors to store the wasserstein loss of A1, A2, and A3, with respect to B.\nThe kl-divergence loss does not change with these threee vectors.\nSecond we'll set up the vectors to store the derivative of the loss with respect to the non-zero indices.\n\n"
      ]
    },
    {
      "cell_type": "code",
      "execution_count": null,
      "metadata": {
        "collapsed": false
      },
      "outputs": [],
      "source": [
        "set_figure_settings('presentation')\na = np.linspace(0,1,num=100,endpoint=True)\nB = [0,0,0,1]\nWl = np.zeros_like(a)\nWl2 = np.zeros_like(a)\nWl3 = np.zeros_like(a)\nKL = np.zeros_like(a)\ndEdO1 = np.zeros_like(a)\ndEdO2 = np.zeros_like(a)\ndEdO3 = np.zeros_like(a)\ndEdO14 = np.zeros_like(a)\ndEdO24 = np.zeros_like(a)\ndEdO34 = np.zeros_like(a)\ndKLdOi = np.zeros_like(a)\nfor i in range(len(a)):\n    A = np.array([a[i],0,0,1-a[i]])\n    Akl = [a[i]+10**-12,+10**-12,+10**-12,1-a[i]+10**-12]\n    Bkl = [10**-12,10**-12,10**-12,1+10**-12]\n    KL[i] = np.sum(kl_div(Bkl,Akl))\n    dKLdOi[i] = a[i]\n    W = (1/len(A)*np.sum((np.cumsum(A)-np.cumsum(B))**2))**0.5\n    dEdO = 2*A*(np.cumsum((np.cumsum(A)-np.cumsum(B))[::-1])[::-1]-np.sum(np.cumsum(A)*(np.cumsum(A)-np.cumsum(B))))\n    dEdO1[i] = dEdO[0]\n    dEdO14[i] = dEdO[3]\n    Wl[i]= W\n    A = np.array([0,a[i],0,1-a[i]])\n    W = (1/len(A)*np.sum((np.cumsum(A)-np.cumsum(B))**2))**0.5\n    dEdO = 2*A*(np.cumsum((np.cumsum(A)-np.cumsum(B))[::-1])[::-1]-np.sum(np.cumsum(A)*(np.cumsum(A)-np.cumsum(B))))\n    dEdO2[i] = dEdO[1]\n    dEdO24[i] = dEdO[3]\n    Wl2[i]= W\n    A = np.array([0,0,a[i],1-a[i]])\n    W = (1/len(A)*np.sum((np.cumsum(A)-np.cumsum(B))**2))**0.5\n    dEdO = 2*A*(np.cumsum((np.cumsum(A)-np.cumsum(B))[::-1])[::-1]-np.sum(np.cumsum(A)*(np.cumsum(A)-np.cumsum(B))))\n    dEdO3[i] = dEdO[2]\n    dEdO34[i] = dEdO[3]\n    Wl3[i]= W\n   \nKL/= np.max(KL)\nG = gridspec.GridSpec(2, 1)\nplt.figure(0,figsize=(7,7.6))\nax1 = plt.subplot(G[0,0])\nax1.plot(a,Wl,'g',a,Wl2,'b',a,Wl3,'darkorange',a,KL,'k')\nplt.xticks([])\nplt.ylabel('Loss')\nplt.legend(['[a,0,0,1-a]','[0,a,0,1-a]','[0,0,a,1-a]','kl-div'])\nax2 = plt.subplot(G[1,0])\nax2.plot(a,dEdO1,'g--')\nax2.plot(a,dEdO2,'b--')\nax2.plot(a,dEdO3,'darkorange',linestyle='--')\nax2.plot(a,dKLdOi,'k--')\nax2.plot(a,dEdO14,'g:')\nax2.plot(a,dEdO24,'b:')\nax2.plot(a,dEdO34,'darkorange',linestyle=':')\nax2.plot(a,-dKLdOi,'k:')\nplt.xlabel('a')\nplt.ylabel('Derivative wrt\\n nonzero elements')\nplt.legend(['[a,0,0,1-a]','[0,a,0,1-a]','[0,0,a,1-a]','kl-div'])\nplt.show()"
      ]
    }
  ],
  "metadata": {
    "kernelspec": {
      "display_name": "Python 3",
      "language": "python",
      "name": "python3"
    },
    "language_info": {
      "codemirror_mode": {
        "name": "ipython",
        "version": 3
      },
      "file_extension": ".py",
      "mimetype": "text/x-python",
      "name": "python",
      "nbconvert_exporter": "python",
      "pygments_lexer": "ipython3",
      "version": "3.7.3"
    }
  },
  "nbformat": 4,
  "nbformat_minor": 0
}