{
  "cells": [
    {
      "cell_type": "code",
      "execution_count": null,
      "metadata": {
        "collapsed": false
      },
      "outputs": [],
      "source": [
        "%matplotlib inline"
      ]
    },
    {
      "cell_type": "markdown",
      "metadata": {},
      "source": [
        "\n# Experimental Prediction using a Binding-type and GCN NN Ensembles\n\n\nThis example shows how to predict binding-type and GCN histograms from pdfs\n"
      ]
    },
    {
      "cell_type": "code",
      "execution_count": null,
      "metadata": {
        "collapsed": false
      },
      "outputs": [],
      "source": [
        "from __future__ import division\nimport matplotlib.pyplot as plt\nimport matplotlib.gridspec as gridspec\nimport numpy as np\nfrom jl_spectra_2_structure import HREEL_2_scaledIR\nfrom jl_spectra_2_structure.plotting_tools import set_figure_settings\nfrom jl_spectra_2_structure.cross_validation import LOAD_CROSS_VALIDATION\nfrom jl_spectra_2_structure import get_exp_data_path"
      ]
    },
    {
      "cell_type": "markdown",
      "metadata": {},
      "source": [
        "set figure settings\n-------------------\n\n\n"
      ]
    },
    {
      "cell_type": "code",
      "execution_count": null,
      "metadata": {
        "collapsed": false
      },
      "outputs": [],
      "source": [
        "set_figure_settings('paper')"
      ]
    },
    {
      "cell_type": "markdown",
      "metadata": {},
      "source": [
        "Load cross validation runs and generate neural network ensembles\n----------------------------------------------------------------\n\n\n"
      ]
    },
    {
      "cell_type": "code",
      "execution_count": null,
      "metadata": {
        "collapsed": false
      },
      "outputs": [],
      "source": [
        "BINDING_TYPE_PATH = 'C:/Users/lansf/Documents/Data/IR_Materials_Gap/cv_BW/CO_BINDING_TYPE_HIGH'\nGCN_PATH = 'C:/Users/lansf/Documents/Data/IR_Materials_Gap/cv_BW/CO_GCN_HIGH'\nDownloads = r'C:\\Users\\lansf\\Downloads'\nCV_class = LOAD_CROSS_VALIDATION(cross_validation_path=BINDING_TYPE_PATH)\nCV_class.load_CV_class(0)\nNN_CNCO = CV_class.get_NN_ensemble(np.arange(len(CV_class.CV_FILES)).tolist(),use_all_cv_NN=True)\nCV_class_GCN = LOAD_CROSS_VALIDATION(cross_validation_path=GCN_PATH)\nNN_GCN = CV_class_GCN.get_NN_ensemble(np.arange(len(CV_class_GCN.CV_FILES)).tolist(), use_all_cv_NN=True)"
      ]
    },
    {
      "cell_type": "markdown",
      "metadata": {},
      "source": [
        "Load experimental spectra and generate predictions with 95% prediction range\n----------------------------------------------------------------------------\n\n\n"
      ]
    },
    {
      "cell_type": "code",
      "execution_count": null,
      "metadata": {
        "collapsed": false
      },
      "outputs": [],
      "source": [
        "X = np.linspace(CV_class.LOW_FREQUENCY,CV_class.HIGH_FREQUENCY,num=CV_class.ENERGY_POINTS,endpoint=True)\nEXP_FILES = np.array(get_exp_data_path())[[3,1,0,2]]\nIR_DATA = np.zeros((len(EXP_FILES),X.shape[0]))\nfor count, file in enumerate(EXP_FILES):\n    IR_DATA[count] = HREEL_2_scaledIR(np.loadtxt(file, delimiter=',', usecols=(0, 1)).T, PEAK_CONV = 2.7, frequency_range=X)\nSurfaces = ['c4x2Pt111', 'LowCovPt111', 'p1x2Pt110','Ptnano']\nNUM_SURFACES = len(Surfaces)\nNUM_PREDICTIONS = len(NN_CNCO.NN_LIST)\nCNCO_prediction = NN_CNCO.predict(IR_DATA,create_predictions_list=True)\nGCN_prediction = NN_GCN.predict(IR_DATA,create_predictions_list=True)\nCNCO_sorted = [np.sort(np.array(NN_CNCO.PREDICTIONS_LIST)[:,i,:],axis=0) for i in range(NUM_SURFACES)]\nGCN_sorted = [np.sort(np.array(NN_GCN.PREDICTIONS_LIST)[:,i,:],axis=0) for i in range(NUM_SURFACES)]\nCNCO_95U = [CNCO_sorted[i][int(0.95*NUM_PREDICTIONS)] - CNCO_prediction[i] for i in range(NUM_SURFACES)]\nCNCO_95L = [CNCO_prediction[i]- CNCO_sorted[i][int(0.05*NUM_PREDICTIONS)] for i in range(NUM_SURFACES)]\nGCN_95U = [GCN_sorted[i][int(0.95*NUM_PREDICTIONS)] - GCN_prediction[i] for i in range(NUM_SURFACES)]\nGCN_95L = [GCN_prediction[i]- GCN_sorted[i][int(0.05*NUM_PREDICTIONS)] for i in range(NUM_SURFACES)]"
      ]
    },
    {
      "cell_type": "markdown",
      "metadata": {},
      "source": [
        "Plot spectra and predictions with 95% prediction range\n------------------------------------------------------\n\n\n"
      ]
    },
    {
      "cell_type": "code",
      "execution_count": null,
      "metadata": {
        "collapsed": false
      },
      "outputs": [],
      "source": [
        "linestyle = ['-',':','-.','--']\ncolor = ['g','b', 'orange','darkorchid']\nG = gridspec.GridSpec(2, 2)\nx_offset = [-0.3,-0.1,0.1,0.3]\nhatch = ['/','\\\\','-',None]\nG.update(wspace=0.0,hspace=.6)\nplt.figure(0,figsize=(7.2,4))\nax3 = plt.subplot(G[0,:])\nfor i in range(NUM_SURFACES):\n    plt.plot(X,IR_DATA[i],color[i],linestyle=linestyle[i])\nplt.legend(['Pt(111) c(4x2)','Pt(111) 0.17 ML CO', 'Pt(110)','55 nm Au@0.7 nm Pt/Pt'])\nplt.xlabel('Frequency [cm$^{-1}$]')\nplt.ylabel('Relative Intensity')\nax3.text(0.002,0.93,'(a)', transform=ax3.transAxes)\n\nax1 = plt.subplot(G[1,0])\nx = np.arange(1,CNCO_prediction[0].size+1)\nfor i in range(NUM_SURFACES):\n    ax1.bar(x+x_offset[i], CNCO_prediction[i],width=0.2,color=color[i],align='center'\\\n        , edgecolor='black', hatch=hatch[i],linewidth=1)\n    ax1.errorbar(x+x_offset[i], CNCO_prediction[i], yerr=np.stack((CNCO_95L[i],CNCO_95U[i]),axis=0), xerr=None\\\n             , fmt='none', ecolor='k',elinewidth=2,capsize=4)\nax1.set_xlim([0.5,CNCO_prediction[0].size+0.5])\nplt.xlabel('Site-type')\nplt.ylabel('CO site distribution')\nax1.set_xticks(range(1,len(x)+1))\nax1.set_xticklabels(['Atop','Bridge','3-fold','4-fold'])\nax1.text(0.004,0.93,'(b)', transform=ax1.transAxes)\n\nx = np.arange(1,GCN_prediction[0].size+1)\nax2 = plt.subplot(G[1,1])\nfor i in range(NUM_SURFACES):\n    ax2.bar(x+x_offset[i], GCN_prediction[i],width=0.2,color=color[i],align='center'\\\n        , edgecolor='black', hatch=hatch[i],linewidth=1)\n    ax2.errorbar(x+x_offset[i], GCN_prediction[i], yerr=np.stack((GCN_95L[i],GCN_95U[i]),axis=0), xerr=None\\\n             , fmt='none', ecolor='k',elinewidth=1,capsize=2)\nax2.set_xlim([0.5,GCN_prediction[0].size+0.5])\nplt.xlabel('Generalized Coordination Group')\nplt.yticks([])\nax2.set_xticks(range(1,len(x)+1))\nax2.text(0.004,0.93,'(c)', transform=ax2.transAxes)\nplt.gcf().subplots_adjust(bottom=0.09,top=0.98,right=0.98,left=0.06)\nplt.show()"
      ]
    },
    {
      "cell_type": "markdown",
      "metadata": {},
      "source": [
        "PLot all predictions for binding-types and GCN grups with large error\n---------------------------------------------------------------------\n\n\n"
      ]
    },
    {
      "cell_type": "code",
      "execution_count": null,
      "metadata": {
        "collapsed": false
      },
      "outputs": [],
      "source": [
        "G = gridspec.GridSpec(1, 2)\nCNCO_c4x2 = np.array(NN_CNCO.PREDICTIONS_LIST)[:,0,:]\nGCN_p1x2 = np.array(NN_GCN.PREDICTIONS_LIST)[:,2,:]\nplt.figure(1,figsize=(7.2,2))\nax1 = plt.subplot(G[0])\nax1.hist(CNCO_c4x2[:,0],bins=10,align='mid',rwidth=0.8,color='brown',zorder=1)\nax1.hist(CNCO_c4x2[:,1],bins=10,align='mid',rwidth=0.8,color='black',zorder=2)\nax1.legend(['Pt(111) c(4x2) Atop','Pt(111) c(4x2) Bridge'])\nax1.text(0.004,0.93,'(a)', transform=ax1.transAxes)\nplt.xlabel('CO binding-type distribution')\nplt.ylabel('Number of predictions')\nax2 = plt.subplot(G[1])\nax2.hist(GCN_p1x2[:,7],bins=10,align='mid',rwidth=0.8,color='brown',zorder=1)\nax2.hist(GCN_p1x2[:,9],bins=10,align='mid',rwidth=0.8,color='black',zorder=2)\nax2.legend(['Pt(110) Group 8','Pt(110) Group 10'])\nax2.text(0.004,0.93,'(b)', transform=ax2.transAxes)\nplt.xlabel('CO GCN group distribution')\nplt.yticks([])\nplt.show()"
      ]
    }
  ],
  "metadata": {
    "kernelspec": {
      "display_name": "Python 3",
      "language": "python",
      "name": "python3"
    },
    "language_info": {
      "codemirror_mode": {
        "name": "ipython",
        "version": 3
      },
      "file_extension": ".py",
      "mimetype": "text/x-python",
      "name": "python",
      "nbconvert_exporter": "python",
      "pygments_lexer": "ipython3",
      "version": "3.7.4"
    }
  },
  "nbformat": 4,
  "nbformat_minor": 0
}